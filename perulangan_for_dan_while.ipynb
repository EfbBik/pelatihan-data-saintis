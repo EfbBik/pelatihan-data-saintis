{
 "cells": [
  {
   "cell_type": "code",
   "execution_count": 1,
   "metadata": {},
   "outputs": [
    {
     "name": "stdout",
     "output_type": "stream",
     "text": [
      "27\n"
     ]
    }
   ],
   "source": [
    "'''FOR LOOP'''\n",
    "\n",
    "L1=[2,4,5,7,9]\n",
    "jumlah=0\n",
    "\n",
    "# iterasi didalam list\n",
    "for i in L1:\n",
    "    jumlah=jumlah+i\n",
    "print(jumlah)"
   ]
  },
  {
   "cell_type": "code",
   "execution_count": 2,
   "metadata": {},
   "outputs": [
    {
     "name": "stdout",
     "output_type": "stream",
     "text": [
      "teh\n",
      "boba\n",
      "kopi\n",
      "susu\n"
     ]
    }
   ],
   "source": [
    "minuman = ['teh','boba','kopi','susu']\n",
    "p = len(minuman)\n",
    "\n",
    "# iterasi didalam list melalui indeks\n",
    "for i in range(p):\n",
    "    print(minuman[i])"
   ]
  },
  {
   "cell_type": "code",
   "execution_count": 3,
   "metadata": {},
   "outputs": [
    {
     "name": "stdout",
     "output_type": "stream",
     "text": [
      "teh\n",
      "boba\n",
      "kopi\n",
      "susu\n",
      "\n",
      "elemen sudah habis\n"
     ]
    }
   ],
   "source": [
    "# contoh for loop  menggunakan else\n",
    "for i in range(p):\n",
    "    print(minuman[i])\n",
    "else:\n",
    "    print()\n",
    "    print('elemen sudah habis')"
   ]
  },
  {
   "cell_type": "code",
   "execution_count": 4,
   "metadata": {},
   "outputs": [
    {
     "name": "stdout",
     "output_type": "stream",
     "text": [
      "total tagihan adalah:  550000\n"
     ]
    }
   ],
   "source": [
    "# latihan 1 (for loop)\n",
    "list_tagihan = [50000,75000,-150000,125000,300000,-50000,200000]\n",
    "total_tagihan=0\n",
    "for a in list_tagihan:\n",
    "    total_tagihan=total_tagihan + a\n",
    "print('total tagihan adalah: ',total_tagihan)"
   ]
  },
  {
   "cell_type": "code",
   "execution_count": 5,
   "metadata": {},
   "outputs": [
    {
     "name": "stdout",
     "output_type": "stream",
     "text": [
      "55\n"
     ]
    }
   ],
   "source": [
    "'''WHILE LOOP'''\n",
    "\n",
    "''' \n",
    "while teks_ expression:\n",
    "    body of while\n",
    "'''\n",
    "\n",
    "n = 10\n",
    "jmlh=0\n",
    "i = 1\n",
    "while i <= n:\n",
    "    jmlh=jmlh+i\n",
    "    i = i +1\n",
    "print(jmlh)"
   ]
  },
  {
   "cell_type": "code",
   "execution_count": 6,
   "metadata": {},
   "outputs": [
    {
     "name": "stdout",
     "output_type": "stream",
     "text": [
      "55\n"
     ]
    }
   ],
   "source": [
    "n=10\n",
    "jum=0\n",
    "i = 1\n",
    "while i <= n:\n",
    "    jum=jum+i\n",
    "    i = i +1\n",
    "else:\n",
    "    print(jmlh)"
   ]
  },
  {
   "cell_type": "code",
   "execution_count": 7,
   "metadata": {},
   "outputs": [
    {
     "name": "stdout",
     "output_type": "stream",
     "text": [
      "total_tagihan:  750000\n"
     ]
    }
   ],
   "source": [
    "# latihan2\n",
    "\n",
    "tagihan = [50000,75000,125000,300000,200000]\n",
    "tot = 0\n",
    "i = 0\n",
    "while i < len(tagihan):\n",
    "    tot = tot + tagihan[i]\n",
    "    i+=1\n",
    "else:\n",
    "    print('total_tagihan: ', tot)"
   ]
  }
 ],
 "metadata": {
  "kernelspec": {
   "display_name": "Python 3",
   "language": "python",
   "name": "python3"
  },
  "language_info": {
   "codemirror_mode": {
    "name": "ipython",
    "version": 3
   },
   "file_extension": ".py",
   "mimetype": "text/x-python",
   "name": "python",
   "nbconvert_exporter": "python",
   "pygments_lexer": "ipython3",
   "version": "3.11.2"
  },
  "orig_nbformat": 4
 },
 "nbformat": 4,
 "nbformat_minor": 2
}
