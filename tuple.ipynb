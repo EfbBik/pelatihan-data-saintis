{
 "cells": [
  {
   "cell_type": "code",
   "execution_count": 3,
   "metadata": {},
   "outputs": [
    {
     "name": "stdout",
     "output_type": "stream",
     "text": [
      "ini tuple: ('ink', 1, False)\n",
      "ini tuple: ('cinta', False, 3, 8.9)\n",
      "elemen ke 0:  cinta\n",
      "('cinta', False, 3, 8.9, 'cinta')\n"
     ]
    },
    {
     "data": {
      "text/plain": [
       "('ink', 1, False, 'cinta', False, 3, 8.9, 'cinta')"
      ]
     },
     "execution_count": 3,
     "metadata": {},
     "output_type": "execute_result"
    }
   ],
   "source": [
    "# contoh tuple\n",
    "t1=('ink',1,False)\n",
    "print('ini tuple:',t1)\n",
    "\n",
    "t2=('cinta',False,3,8.9)\n",
    "print('ini tuple:',t2)\n",
    "\n",
    "# menampilkan tipe struktur data\n",
    "type(t2)\n",
    "\n",
    "# terurud?orderet\n",
    "t1[0:2]\n",
    "\n",
    "# dapat diindeks\n",
    "print('elemen ke 0: ',t2[0])\n",
    "\n",
    "# dapat diduplikasi\n",
    "t2=('cinta',False,3,8.9,'cinta')\n",
    "print(t2)\n",
    "\n",
    "# menggabungkan tuple\n",
    "t3= t1+t2\n",
    "t3"
   ]
  },
  {
   "cell_type": "code",
   "execution_count": null,
   "metadata": {},
   "outputs": [],
   "source": [
    "# tidak bisa diganti\n",
    "t2[0]=4\n",
    "\n",
    "# tidak dapat menambah elemen baru\n",
    "t1.append(11)\n",
    " \n",
    "#  tidak dapat menghapus elemen\n",
    "t2.pop()"
   ]
  },
  {
   "cell_type": "code",
   "execution_count": 5,
   "metadata": {},
   "outputs": [
    {
     "data": {
      "text/plain": [
       "('tidak', 32, 0.9, 'self', 'jangan', 6.9, True, (99+9j))"
      ]
     },
     "execution_count": 5,
     "metadata": {},
     "output_type": "execute_result"
    }
   ],
   "source": [
    "# LATIHAN 1\n",
    "A=('jangan',6.9,True,9j+99)\n",
    "B=('tidak', 32,0.9,'self')\n",
    "\n",
    "# LATIHAN 2\n",
    "C = B + A\n",
    "C"
   ]
  }
 ],
 "metadata": {
  "kernelspec": {
   "display_name": "Python 3",
   "language": "python",
   "name": "python3"
  },
  "language_info": {
   "codemirror_mode": {
    "name": "ipython",
    "version": 3
   },
   "file_extension": ".py",
   "mimetype": "text/x-python",
   "name": "python",
   "nbconvert_exporter": "python",
   "pygments_lexer": "ipython3",
   "version": "3.11.2"
  },
  "orig_nbformat": 4
 },
 "nbformat": 4,
 "nbformat_minor": 2
}
