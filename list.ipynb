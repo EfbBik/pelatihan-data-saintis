{
 "cells": [
  {
   "cell_type": "code",
   "execution_count": 4,
   "metadata": {},
   "outputs": [
    {
     "name": "stdout",
     "output_type": "stream",
     "text": [
      "<class 'list'>\n",
      "<class 'list'>\n"
     ]
    }
   ],
   "source": [
    "# contoh list\n",
    "ini_list1=[0.3,100,4j+5,'tampan',False]\n",
    "ini_list2=['arak','haram',0]\n",
    "print(type(ini_list1))\n",
    "print(type(ini_list2))"
   ]
  },
  {
   "cell_type": "code",
   "execution_count": null,
   "metadata": {},
   "outputs": [],
   "source": [
    "''' sifat-sifat list'''\n",
    "\n",
    "# terurut/ordered\n",
    "print('memanggil list dengan indeks urutan:', ini_list1[1:3])\n",
    "\n",
    "# bisa dinganti/mutable\n",
    "ini_list1[1]='uwu'\n",
    "print(ini_list1)\n",
    "\n",
    "# dapat diindeks/slicing\n",
    "print('slicing list:', ini_list2[2])\n",
    "\n",
    "# dapat di duplikasi\n",
    "ini_list1=[0.3,100,4j+5,'tampan',False,'tampan']\n",
    "print('duplikasi list:', ini_list1)\n",
    "\n",
    "# dapat mengubah data dengan mengganti elemen tertentu\n",
    "ini_list1[3]= 69\n",
    "print('list setelah di ganti: ', ini_list1)\n",
    "\n",
    "# dapat menambahkan elemen baru\n",
    "ini_list2.append('?')\n",
    "print('list setelah ditambahkan: ',ini_list2)\n",
    "\n",
    "# dapat mengahapus elemen (remove():menghapus berdasarkan isi lis)\n",
    "ini_list1.remove(0.3)\n",
    "print(\"list setelah dihapus: \",ini_list1)\n",
    "\n",
    "# menambahkan data menggunkan extend(): menambahkan elemen namun secara individual\n",
    "ini_list2.extend('apa')\n",
    "print(ini_list2)\n",
    "\n",
    "ini_list2.extend(['males'])\n",
    "print(ini_list2)\n",
    "\n",
    "# menambahkan data list dengan insert(a,b): menambahkan elemen baru pada indeks tertentu\n",
    "ini_list1.insert(0,'ganti')\n",
    "print(ini_list1)\n",
    "\n",
    "# menghapus isi list dengan pop(): menghapus berdasar indeks tertentu\n",
    "ini_list1.pop(2)\n",
    "print(ini_list1)\n",
    "\n",
    "ini_list1.pop()\n",
    "print(ini_list1)"
   ]
  },
  {
   "cell_type": "code",
   "execution_count": 20,
   "metadata": {},
   "outputs": [],
   "source": [
    "#   LATIHAN 1\n",
    "A = [0.1,'aku','lupa','?', True, 1]"
   ]
  },
  {
   "cell_type": "code",
   "execution_count": 27,
   "metadata": {},
   "outputs": [
    {
     "name": "stdout",
     "output_type": "stream",
     "text": [
      "[0.1, 'aku', 'lupa', '?', True, 1]\n",
      "['aku', 'lupa', '?', True, 1]\n",
      "['aku', 'lupa', '?', True]\n",
      "['aku', 'lupa', '?', 90]\n",
      "['aku', 'lupa', '?', 90, 'b', 'e', 'n', 'a', 'r']\n",
      "['aku', 'lupa', '?', 90, 'b', 'e', 'n', 0, 'a', 'r']\n"
     ]
    }
   ],
   "source": [
    "#   LATIHAN 2\n",
    "A = [0.1,'aku','lupa','?', True, 1]\n",
    "print(A)\n",
    "\n",
    "A.remove(0.1)\n",
    "print(A)\n",
    "\n",
    "A.pop()\n",
    "print(A)\n",
    "\n",
    "A[3]= 90\n",
    "print(A)\n",
    "\n",
    "A.extend('benar')\n",
    "print(A)\n",
    "\n",
    "A.insert(7,0)\n",
    "print(A)"
   ]
  }
 ],
 "metadata": {
  "kernelspec": {
   "display_name": "Python 3",
   "language": "python",
   "name": "python3"
  },
  "language_info": {
   "codemirror_mode": {
    "name": "ipython",
    "version": 3
   },
   "file_extension": ".py",
   "mimetype": "text/x-python",
   "name": "python",
   "nbconvert_exporter": "python",
   "pygments_lexer": "ipython3",
   "version": "3.11.2"
  },
  "orig_nbformat": 4
 },
 "nbformat": 4,
 "nbformat_minor": 2
}
