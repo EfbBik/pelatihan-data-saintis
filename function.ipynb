{
 "cells": [
  {
   "cell_type": "code",
   "execution_count": 13,
   "metadata": {},
   "outputs": [
    {
     "name": "stdout",
     "output_type": "stream",
     "text": [
      "hikam\n"
     ]
    }
   ],
   "source": [
    "'''FUNTION'''\n",
    "def print_nama(nama):\n",
    "    print(nama)\n",
    "\n",
    "print_nama('hikam')"
   ]
  },
  {
   "cell_type": "code",
   "execution_count": 14,
   "metadata": {},
   "outputs": [
    {
     "name": "stdout",
     "output_type": "stream",
     "text": [
      "1 2 3\n",
      "1 2 3\n",
      "1 2 3\n"
     ]
    }
   ],
   "source": [
    "def angka(a,b,c):\n",
    "    print(a,b,c)\n",
    "\n",
    "angka(1,2,3)\n",
    "angka(c=3,a=1,b=2)\n",
    "angka(1,b=2,c=3)\n",
    "\n",
    "# EROR\n",
    "# angka(1,b=2,3)\n",
    "# angka(1,b=2,a=3)"
   ]
  },
  {
   "cell_type": "code",
   "execution_count": 15,
   "metadata": {},
   "outputs": [
    {
     "name": "stdout",
     "output_type": "stream",
     "text": [
      "4 5 6 7\n",
      "1 2 3 1000\n"
     ]
    }
   ],
   "source": [
    "# argumen default\n",
    "def angka2(a,b,c,d=4):\n",
    "    print(a,b,c,d)\n",
    "\n",
    "# argumen default harus berada di akhir\n",
    "angka2(4,5,6,7)\n",
    "angka2(1,2,3,d=1000)\n"
   ]
  },
  {
   "cell_type": "code",
   "execution_count": 19,
   "metadata": {},
   "outputs": [
    {
     "name": "stdout",
     "output_type": "stream",
     "text": [
      "5\n",
      "10\n"
     ]
    }
   ],
   "source": [
    "def penjumlahan(x,y,z=None):\n",
    "    if z==None:\n",
    "        return x+y\n",
    "    else:\n",
    "        return x+y+z\n",
    "\n",
    "print(penjumlahan(2,3))\n",
    "print(penjumlahan(2,3,5))"
   ]
  },
  {
   "cell_type": "code",
   "execution_count": 4,
   "metadata": {},
   "outputs": [],
   "source": [
    "# LATIHAN 1\n",
    "'''MENGHITUNG SISI MIRING SEGITIGA SIKU SIKU'''\n",
    "\n",
    "def sisi_miring(t,a):\n",
    "    from math import sqrt\n",
    "    r=sqrt(t*t+a*a)\n",
    "    return r"
   ]
  },
  {
   "cell_type": "code",
   "execution_count": 7,
   "metadata": {},
   "outputs": [
    {
     "data": {
      "text/plain": [
       "5.0"
      ]
     },
     "execution_count": 7,
     "metadata": {},
     "output_type": "execute_result"
    }
   ],
   "source": [
    "sisi_miring(t=4,a=3)"
   ]
  },
  {
   "cell_type": "code",
   "execution_count": 10,
   "metadata": {},
   "outputs": [],
   "source": [
    "# LATIHAN 2\n",
    "'''LUAS PERMUKAAN SEBUAH BALOK'''\n",
    "\n",
    "def luas_perm_balok(p,l,t):\n",
    "    x = 2*(p*l+p*t+l*t)\n",
    "    return x"
   ]
  },
  {
   "cell_type": "code",
   "execution_count": 12,
   "metadata": {},
   "outputs": [
    {
     "data": {
      "text/plain": [
       "10"
      ]
     },
     "execution_count": 12,
     "metadata": {},
     "output_type": "execute_result"
    }
   ],
   "source": [
    "luas_perm_balok(2,1,1)"
   ]
  },
  {
   "cell_type": "code",
   "execution_count": null,
   "metadata": {},
   "outputs": [],
   "source": []
  }
 ],
 "metadata": {
  "kernelspec": {
   "display_name": "Python 3",
   "language": "python",
   "name": "python3"
  },
  "language_info": {
   "codemirror_mode": {
    "name": "ipython",
    "version": 3
   },
   "file_extension": ".py",
   "mimetype": "text/x-python",
   "name": "python",
   "nbconvert_exporter": "python",
   "pygments_lexer": "ipython3",
   "version": "3.11.2"
  },
  "orig_nbformat": 4
 },
 "nbformat": 4,
 "nbformat_minor": 2
}
