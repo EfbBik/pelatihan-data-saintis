{
 "cells": [
  {
   "cell_type": "code",
   "execution_count": 2,
   "metadata": {},
   "outputs": [
    {
     "name": "stdout",
     "output_type": "stream",
     "text": [
      "3 adalah bilangan posistif\n",
      "-1 adalah bilangan negatif\n"
     ]
    }
   ],
   "source": [
    "# menentukan bilangan positif dan negatif\n",
    "angka = 3\n",
    "if angka > 0:\n",
    "    print(angka,\"adalah bilangan posistif\")\n",
    "\n",
    "angka = -1\n",
    "if angka < 0:\n",
    "    print(angka,\"adalah bilangan negatif\")"
   ]
  },
  {
   "cell_type": "code",
   "execution_count": 3,
   "metadata": {},
   "outputs": [
    {
     "name": "stdout",
     "output_type": "stream",
     "text": [
      "3 adalah bilangan lebih atau samadengan 0\n"
     ]
    }
   ],
   "source": [
    "angka = 3\n",
    "if angka >= 0:\n",
    "    print(angka,\"adalah bilangan lebih atau samadengan 0\")\n",
    "else:\n",
    "    print('bilangan kurang dari 0')"
   ]
  },
  {
   "cell_type": "code",
   "execution_count": 4,
   "metadata": {},
   "outputs": [
    {
     "name": "stdout",
     "output_type": "stream",
     "text": [
      "a dan b berniali sama\n"
     ]
    }
   ],
   "source": [
    "a =  5\n",
    "b = 5\n",
    "\n",
    "if a==b:\n",
    "    print('a dan b berniali sama')\n",
    "else:\n",
    "    print('a dan b bernilai berbeda')\n",
    "    print('belajar If Else')"
   ]
  },
  {
   "cell_type": "code",
   "execution_count": 5,
   "metadata": {},
   "outputs": [
    {
     "name": "stdout",
     "output_type": "stream",
     "text": [
      "bilangan yang lebih besar adalaha :  24\n"
     ]
    }
   ],
   "source": [
    "# membaca dua angka\n",
    "bil1 = int(input('masukan bilanmgan pertama : '))\n",
    "bil2 = int(input('masukan bilanmgan kedua : '))\n",
    "\n",
    "# memilih bilangan yang lebih besar\n",
    "if bil1 > bil2:\n",
    "    bil_besar=bil1\n",
    "else:\n",
    "    bil_besar=bil2\n",
    "\n",
    "# menampilkan hasil\n",
    "print('bilangan yang lebih besar adalaha : ', bil_besar)"
   ]
  },
  {
   "cell_type": "code",
   "execution_count": 6,
   "metadata": {},
   "outputs": [
    {
     "name": "stdout",
     "output_type": "stream",
     "text": [
      "bilangan positif\n"
     ]
    }
   ],
   "source": [
    "angka = 3.4\n",
    "\n",
    "if angka > 0:\n",
    "    print('bilangan positif')\n",
    "elif angka==0:\n",
    "    print('nol')\n",
    "else:\n",
    "    print('bilangan negatif')"
   ]
  },
  {
   "cell_type": "code",
   "execution_count": 8,
   "metadata": {},
   "outputs": [
    {
     "name": "stdout",
     "output_type": "stream",
     "text": [
      "x habis diabagi 2\n",
      "x tidak habis dibagi 2,3 ataupun 5\n"
     ]
    }
   ],
   "source": [
    "# statement if\n",
    "x=4\n",
    "if x % 2 == 0: #menghitung sisa hasil bagi\n",
    "    print('x habis diabagi 2')\n",
    "\n",
    "# statement if.... elif..... else\n",
    "x=7\n",
    "if x % 2 == 0:\n",
    "    print('x habis diabagi 2')\n",
    "elif x % 3 == 0:\n",
    "    print('x habis diabagi 2')\n",
    "elif x % 5 == 0:\n",
    "    print('x habis diabagi 5')\n",
    "else:\n",
    "    print('x tidak habis dibagi 2,3 ataupun 5')"
   ]
  },
  {
   "cell_type": "code",
   "execution_count": 9,
   "metadata": {},
   "outputs": [
    {
     "name": "stdout",
     "output_type": "stream",
     "text": [
      "bilangan positif\n"
     ]
    }
   ],
   "source": [
    "angka=float(input('masukan angka: '))\n",
    "if angka >=0:\n",
    "    if angka==0:\n",
    "        print('nol')\n",
    "    else:\n",
    "        print('bilangan positif')\n",
    "else:\n",
    "    print('bilangan negatif')"
   ]
  },
  {
   "cell_type": "code",
   "execution_count": 12,
   "metadata": {},
   "outputs": [
    {
     "name": "stdout",
     "output_type": "stream",
     "text": [
      "barang: MAHAL Kamu dapat diskon: 40%\n",
      "harga yang perlu dibayar:  2400000.0\n"
     ]
    }
   ],
   "source": [
    "# latihan\n",
    "harga = int(input('masukan harga barang: Rp.'))\n",
    "min_diskon_40=250000\n",
    "min_diskon_20=200000\n",
    "if harga < min_diskon_40:\n",
    "    k='MURAH'\n",
    "    if harga < min_diskon_20:\n",
    "        a='10%'\n",
    "        diskon=90/100\n",
    "    else:\n",
    "        a='20%'\n",
    "        diskon=80/100\n",
    "else:\n",
    "    k = 'MAHAL'\n",
    "    a='40%'\n",
    "    diskon = 60/100\n",
    "bayar=harga*diskon\n",
    "print(f'barang: {k} Kamu dapat diskon: {a}')\n",
    "print('harga yang perlu dibayar: ', bayar)"
   ]
  }
 ],
 "metadata": {
  "kernelspec": {
   "display_name": "Python 3",
   "language": "python",
   "name": "python3"
  },
  "language_info": {
   "codemirror_mode": {
    "name": "ipython",
    "version": 3
   },
   "file_extension": ".py",
   "mimetype": "text/x-python",
   "name": "python",
   "nbconvert_exporter": "python",
   "pygments_lexer": "ipython3",
   "version": "3.11.2"
  },
  "orig_nbformat": 4
 },
 "nbformat": 4,
 "nbformat_minor": 2
}
