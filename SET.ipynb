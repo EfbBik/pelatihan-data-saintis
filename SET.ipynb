{
 "cells": [
  {
   "cell_type": "code",
   "execution_count": 1,
   "metadata": {},
   "outputs": [
    {
     "name": "stdout",
     "output_type": "stream",
     "text": [
      "List 1: ['kimia', 'fisika', 1993, 2017]\n",
      "List 2: [1, 2, 3, 4, 5]\n",
      "List 3: ['a', 'b', 'c', 'd']\n"
     ]
    }
   ],
   "source": [
    "#Contoh sederhana pembuatan list pada bahasa pemrograman python\n",
    "list1 = ['kimia', 'fisika', 1993, 2017]\n",
    "list2 = [1, 2, 3, 4, 5 ]\n",
    "list3 = [\"a\", \"b\", \"c\", \"d\"]\n",
    "print('List 1:', list1)\n",
    "print('List 2:', list2)\n",
    "print('List 3:', list3)"
   ]
  },
  {
   "cell_type": "code",
   "execution_count": 2,
   "metadata": {},
   "outputs": [
    {
     "name": "stdout",
     "output_type": "stream",
     "text": [
      "list1[0]:  fisika\n",
      "list2[1:5]:  [2, 3, 4, 5]\n"
     ]
    }
   ],
   "source": [
    "#Cara mengakses nilai di dalam list Python\n",
    "list1 = ['fisika', 'kimia', 1993, 2017]\n",
    "list2 = [1, 2, 3, 4, 5, 6, 7 ]\n",
    "print (\"list1[0]: \", list1[0])\n",
    "print (\"list2[1:5]: \", list2[1:5])\n"
   ]
  },
  {
   "cell_type": "code",
   "execution_count": 3,
   "metadata": {},
   "outputs": [
    {
     "name": "stdout",
     "output_type": "stream",
     "text": [
      "Nilai ada pada index 2 :  1993\n",
      "Nilai baru ada pada index 2 :  2001\n"
     ]
    }
   ],
   "source": [
    "# Update Nilai Dalam List Pytho\n",
    "list = ['fisika', 'kimia', 1993, 2017]\n",
    "print (\"Nilai ada pada index 2 : \", list[2])\n",
    "list[2] = 2001\n",
    "print (\"Nilai baru ada pada index 2 : \", list[2])"
   ]
  },
  {
   "cell_type": "code",
   "execution_count": 4,
   "metadata": {},
   "outputs": [
    {
     "name": "stdout",
     "output_type": "stream",
     "text": [
      "['fisika', 'kimia', 1993, 2017]\n",
      "Setelah dihapus nilai pada index 2 :  ['fisika', 'kimia', 2017]\n"
     ]
    }
   ],
   "source": [
    "#Contoh cara menghapus nilai pada list python\n",
    "list = ['fisika', 'kimia', 1993, 2017]\n",
    "print (list)\n",
    "del list[2]\n",
    "print (\"Setelah dihapus nilai pada index 2 : \", list)"
   ]
  },
  {
   "cell_type": "code",
   "execution_count": 5,
   "metadata": {},
   "outputs": [
    {
     "name": "stdout",
     "output_type": "stream",
     "text": [
      "Indeks ke-2: Python\n",
      "Indeks ke-2 dari belakang : Java\n",
      "Indeks ke 1 dan 2 : ['Java', 'Python']\n"
     ]
    }
   ],
   "source": [
    "L = ['C++', 'Java', 'Python']\n",
    "print('Indeks ke-2:', L[2])\n",
    "print('Indeks ke-2 dari belakang :', L[-2])\n",
    "print('Indeks ke 1 dan 2 :', L[1:])\n"
   ]
  },
  {
   "cell_type": "code",
   "execution_count": 1,
   "metadata": {},
   "outputs": [
    {
     "name": "stdout",
     "output_type": "stream",
     "text": [
      "True\n"
     ]
    }
   ],
   "source": [
    "'''\n",
    "SET\n",
    "Set juga merupakan tipe data untuk mengumpulkan beberapa item dalam satu variabel. Bedanya, \n",
    "item di dalam set bersifat tidak berurutan dan\n",
    "tidak bisa diubah/diduplikasi. Set menggunakan {} sebagai kontainer.\n",
    "Sama seperti list, set juga bisa diisi oleh item dengan berbagai jenis data.\n",
    "'''\n",
    "\n",
    "# Mengakses item dalam set\n",
    "a = {\"Rokok\", \"Korek\", \"Asbak\"}\n",
    "print(\"Rokok\" in a)\n"
   ]
  },
  {
   "cell_type": "code",
   "execution_count": 2,
   "metadata": {},
   "outputs": [
    {
     "name": "stdout",
     "output_type": "stream",
     "text": [
      "{'Rokok', 'Asbak'}\n"
     ]
    }
   ],
   "source": [
    "# Menghapus item dalam set\n",
    "a = {\"Rokok\", \"Korek\", \"Asbak\"}\n",
    "a.remove(\"Korek\")\n",
    "print(a)"
   ]
  },
  {
   "cell_type": "code",
   "execution_count": 3,
   "metadata": {},
   "outputs": [
    {
     "name": "stdout",
     "output_type": "stream",
     "text": [
      "{'nama': 'Budi', 'umur': 50, 'tinggi_badan': 155.5}\n"
     ]
    }
   ],
   "source": [
    "'''\n",
    "Dictionary\n",
    "Dictionary sebagai tipe data berfungsi mengumpulkan beberapa item dalam satu variabel \n",
    "dengan format key:value. Item di dalam dictionary\n",
    "bersifat berurutan, bisa diubah, tetapi tidak bisa diduplikasi. Dictionary menggunakan simbol {item:item} sebagai kontainer.\n",
    "Contoh dictionary yang diisi item dengan berbagai jenis tipe data'''\n",
    "\n",
    "x = {\"nama\": \"Budi\", \"umur\": 50, \"tinggi_badan\": 155.5}\n",
    "print(x)\n"
   ]
  },
  {
   "cell_type": "code",
   "execution_count": 4,
   "metadata": {},
   "outputs": [
    {
     "name": "stdout",
     "output_type": "stream",
     "text": [
      "50\n"
     ]
    }
   ],
   "source": [
    "# Mengakses value dari dictionary\n",
    "# Untuk mengakses value dari sebuah key dalam dictionary, gunakan (variabel[key]).\n",
    "menteri = {\"nama\": \"Budi\", \"umur\": 50}\n",
    "print(menteri[\"umur\"])"
   ]
  },
  {
   "cell_type": "code",
   "execution_count": 6,
   "metadata": {},
   "outputs": [
    {
     "name": "stdout",
     "output_type": "stream",
     "text": [
      "dict['Name']:  Zara\n",
      "dict['Age']:  7\n"
     ]
    }
   ],
   "source": [
    "#Contoh cara membuat Dictionary pada Python\n",
    "dict = {'Name': 'Zara', 'Age': 7, 'Class': 'First'}\n",
    "print (\"dict['Name']: \", dict['Name'])\n",
    "print (\"dict['Age']: \", dict['Age'])"
   ]
  },
  {
   "cell_type": "code",
   "execution_count": 8,
   "metadata": {},
   "outputs": [
    {
     "name": "stdout",
     "output_type": "stream",
     "text": [
      "dict['Age']:  8\n",
      "dict['School']:  DPS School\n",
      "{'nama': 'Adi', 'umur': 50}\n"
     ]
    }
   ],
   "source": [
    "# Update Nilai Dalam Dictionary Python\n",
    "# Dapat memperbarui Dictionary dengan menambahkan entri baru atau pasangan nilai kunci, memodifikasi entri yang ada\n",
    "\n",
    "# Mengubah item\n",
    "'''Untuk mengubah item, kita perlu menentukan terlebih dahulu key dari item yang ingin diubah.\n",
    "Sintaksis yang digunakan adalah (variabel[key]) = value_baru.'''\n",
    "\n",
    "#Update dictionary python\n",
    "dict = {'Name': 'Zara', 'Age': 7, 'Class': 'First'}\n",
    "dict['Age'] = 8; # Mengubah entri yang sudah ada\n",
    "dict['School'] = \"DPS School\" # Menambah entri baru\n",
    "print (\"dict['Age']: \", dict['Age'])\n",
    "print (\"dict['School']: \", dict['School'])\n",
    "\n",
    "menteri = {\"nama\": \"Budi\", \"umur\": 50}\n",
    "menteri[\"nama\"] = \"Adi\"\n",
    "print(menteri)"
   ]
  },
  {
   "cell_type": "code",
   "execution_count": 9,
   "metadata": {},
   "outputs": [
    {
     "name": "stdout",
     "output_type": "stream",
     "text": [
      "{'nama': 'Budi', 'umur': 50, 'kementerian': 'Setneg'}\n"
     ]
    }
   ],
   "source": [
    "# Menambah item\n",
    "'''Menambah item memiliki langkah yang sama dengan mengubah item. Bedanya, key yang dimasukkan adalah key baru yang belum ada di\n",
    "dalam dictionary. Sintaksis yang digunakan adalah (variabel[key_baru]) = value_baru.'''\n",
    "\n",
    "menteri = {\"nama\": \"Budi\", \"umur\": 50}\n",
    "menteri[\"kementerian\"] = \"Setneg\"\n",
    "print(menteri)"
   ]
  },
  {
   "cell_type": "code",
   "execution_count": 11,
   "metadata": {},
   "outputs": [
    {
     "name": "stdout",
     "output_type": "stream",
     "text": [
      "Setneg\n",
      "dict['Age']:  dict['Age']\n",
      "dict['School']:  dict['School']\n"
     ]
    }
   ],
   "source": [
    "# Menghapus item\n",
    "'''Untuk menghapus item dalam dictionary, kita menggunakan fungsi .pop \n",
    "dengan sintaksis (variabel).pop(key_yang_ingin_dihapus).'''\n",
    "menteri = {\"nama\": \"Budi\", \"umur\": 50, \"kementerian\": \"Setneg\"}\n",
    "print(menteri.pop(\"kementerian\"))\n",
    "\n",
    "#Contoh cara menghapus pada Dictionary Python\n",
    "dict = {'Name': 'Zara', 'Age': 7, 'Class': 'First'}\n",
    "del dict['Name'] # hapus entri dengan key 'Name'\n",
    "dict.clear() # hapus semua entri di dict\n",
    "del dict # hapus dictionary yang sudah ada\n",
    "print (\"dict['Age']: \", dict['Age'])\n",
    "print (\"dict['School']: \", dict['School'])\n"
   ]
  }
 ],
 "metadata": {
  "kernelspec": {
   "display_name": "Python 3",
   "language": "python",
   "name": "python3"
  },
  "language_info": {
   "codemirror_mode": {
    "name": "ipython",
    "version": 3
   },
   "file_extension": ".py",
   "mimetype": "text/x-python",
   "name": "python",
   "nbconvert_exporter": "python",
   "pygments_lexer": "ipython3",
   "version": "3.11.2"
  },
  "orig_nbformat": 4
 },
 "nbformat": 4,
 "nbformat_minor": 2
}
